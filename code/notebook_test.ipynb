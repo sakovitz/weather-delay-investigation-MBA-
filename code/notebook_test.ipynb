{
 "cells": [
  {
   "cell_type": "markdown",
   "metadata": {},
   "source": [
    "This notebook is just for testing purposes."
   ]
  },
  {
   "cell_type": "code",
   "execution_count": null,
   "metadata": {},
   "outputs": [],
   "source": [
    "from functions.func_metar_df_module import metar_processing\n",
    "import os\n",
    "import pandas as pd"
   ]
  },
  {
   "cell_type": "code",
   "execution_count": null,
   "metadata": {},
   "outputs": [],
   "source": [
    "metar = metar_processing(os.getcwd() + r'\\functions\\related_archives', 'response.json')\n",
    "metar"
   ]
  },
  {
   "cell_type": "code",
   "execution_count": null,
   "metadata": {},
   "outputs": [],
   "source": [
    "from functions.func_flights_df_module import flights_processing\n",
    "import os"
   ]
  },
  {
   "cell_type": "code",
   "execution_count": null,
   "metadata": {},
   "outputs": [],
   "source": [
    "df = flights_processing(os.getcwd() + r'\\functions\\related_archives\\VRA_2023_12.csv')\n",
    "df #= eita['flight_situation'].unique()"
   ]
  },
  {
   "cell_type": "code",
   "execution_count": null,
   "metadata": {},
   "outputs": [],
   "source": [
    "min_date = metar['date_time'].min()\n",
    "\n",
    "# Encontrar a data máxima\n",
    "max_date = metar['date_time'].max()\n",
    "\n"
   ]
  },
  {
   "cell_type": "code",
   "execution_count": null,
   "metadata": {},
   "outputs": [],
   "source": [
    "print(\"Data mínima:\", min_date)\n"
   ]
  },
  {
   "cell_type": "code",
   "execution_count": null,
   "metadata": {},
   "outputs": [],
   "source": [
    "print(\"Data máxima:\", max_date)"
   ]
  },
  {
   "cell_type": "code",
   "execution_count": null,
   "metadata": {},
   "outputs": [],
   "source": [
    "#metar, verificações de  data\n",
    "column_type = metar['date_time'].dtype\n",
    "\n",
    "print(\"Tipo da coluna 'date_time':\", column_type)"
   ]
  },
  {
   "cell_type": "code",
   "execution_count": null,
   "metadata": {},
   "outputs": [],
   "source": [
    "# Certifique-se de que 'date_time' está em formato de data\n",
    "metar['date_time'] = pd.to_datetime(metar['date_time'])\n",
    "\n",
    "# Subtrair 3 meses e 1 ano\n",
    "metar['date_time'] = metar['date_time'] - pd.DateOffset(months=3, years=1)\n",
    "\n",
    "# Verifique se a transformação foi feita corretamente\n",
    "print(metar['date_time'].head())"
   ]
  },
  {
   "cell_type": "code",
   "execution_count": 6,
   "metadata": {},
   "outputs": [],
   "source": [
    "flights = pd.read_csv(os.getcwd() + r'\\\\main_related_archives\\\\departure_logs.csv')\n",
    "flights_ = pd.read_csv(os.getcwd() + r'\\\\main_related_archives\\\\arrival_logs.csv')"
   ]
  },
  {
   "cell_type": "code",
   "execution_count": 5,
   "metadata": {},
   "outputs": [
    {
     "name": "stdout",
     "output_type": "stream",
     "text": [
      "['in_time' 'delayed']\n"
     ]
    }
   ],
   "source": [
    "unique_departure_status = flights['departure_status'].unique()\n",
    "print(unique_departure_status)"
   ]
  },
  {
   "cell_type": "code",
   "execution_count": 7,
   "metadata": {},
   "outputs": [
    {
     "name": "stdout",
     "output_type": "stream",
     "text": [
      "['in_time' 'delayed']\n"
     ]
    }
   ],
   "source": [
    "unique_departure_status = flights_['arrival_status'].unique()\n",
    "print(unique_departure_status)"
   ]
  }
 ],
 "metadata": {
  "kernelspec": {
   "display_name": "Python 3",
   "language": "python",
   "name": "python3"
  },
  "language_info": {
   "codemirror_mode": {
    "name": "ipython",
    "version": 3
   },
   "file_extension": ".py",
   "mimetype": "text/x-python",
   "name": "python",
   "nbconvert_exporter": "python",
   "pygments_lexer": "ipython3",
   "version": "3.11.3"
  }
 },
 "nbformat": 4,
 "nbformat_minor": 2
}
